{
 "cells": [
  {
   "cell_type": "code",
   "execution_count": 2,
   "metadata": {},
   "outputs": [],
   "source": [
    "import numpy as np"
   ]
  },
  {
   "cell_type": "code",
   "execution_count": 3,
   "metadata": {},
   "outputs": [],
   "source": [
    "def area_circ(r_in):\n",
    "    \"\"\"Calculates the area of a circle with given radius.\n",
    "\n",
    "    :Input: The radius of the circle (float, >=0).\n",
    "    :Returns: The area of the circle (float).\"\"\"\n",
    "    if r_in < 0:\n",
    "        raise ValueError(\"The radius must be >= 0.\")\n",
    "    area_out = np.pi * r_in**2\n",
    "    print(\"The area of a circle with radius r = {:3.2f}cm\\\n",
    "        is A = {:4.2f}cm2.\".format(r_in, area_out))\n",
    "    return area_out"
   ]
  },
  {
   "cell_type": "code",
   "execution_count": 4,
   "metadata": {},
   "outputs": [
    {
     "name": "stdout",
     "output_type": "stream",
     "text": [
      "The area of a circle with radius r = 4.00cm        is A = 50.27cm2.\n"
     ]
    },
    {
     "data": {
      "text/plain": [
       "50.26548245743669"
      ]
     },
     "execution_count": 4,
     "metadata": {},
     "output_type": "execute_result"
    }
   ],
   "source": [
    "area_circ(4)"
   ]
  },
  {
   "cell_type": "code",
   "execution_count": null,
   "metadata": {},
   "outputs": [],
   "source": []
  }
 ],
 "metadata": {
  "interpreter": {
   "hash": "84900d5badacbc0e30c161754da65cc47e9eebaa051ec2f304abeddb2faf92d7"
  },
  "kernelspec": {
   "display_name": "Python 3.9.7 ('base')",
   "language": "python",
   "name": "python3"
  },
  "language_info": {
   "codemirror_mode": {
    "name": "ipython",
    "version": 3
   },
   "file_extension": ".py",
   "mimetype": "text/x-python",
   "name": "python",
   "nbconvert_exporter": "python",
   "pygments_lexer": "ipython3",
   "version": "3.9.7"
  },
  "orig_nbformat": 4
 },
 "nbformat": 4,
 "nbformat_minor": 2
}
